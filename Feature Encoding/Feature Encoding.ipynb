{
 "cells": [
  {
   "cell_type": "markdown",
   "id": "00800676-d336-4104-aef8-b68be4fb6377",
   "metadata": {},
   "source": [
    "# Feature Engineering – Feature Encoding\n",
    " \n",
    "**Feature Encoding** is the process of converting categorical data (non-numeric) into a numerical format that machine learning algorithms can understand. Since many algorithms work only with numerical data, encoding categorical variables is a crucial preprocessing step.\n",
    "\n",
    "## Why is Feature Encoding Required?\n",
    "**1.\tMachine Learning Algorithms:** Most ML models cannot handle non-numeric data.                             \n",
    "**2.\tInterpretability:** Encoded data provides a structured, numerical format that makes computations feasible.                          \n",
    "**3.\tImproved Model Performance:** Proper encoding ensures that categorical information is captured effectively, improving prediction accuracy.          \n",
    "\n",
    "As machine learning models only accept numerical variables, preprocessing the categorical variables becomes a necessary step. We need to convert these categorical variables to numbers so that the model is able to understand and extract valuable information."
   ]
  },
  {
   "cell_type": "markdown",
   "id": "732c3819-d863-4cbc-8f7d-136751fabd05",
   "metadata": {},
   "source": [
    "## Types of Categorical Variables\n",
    "We can generally divide the categorical variables(features) into 3 types:\n",
    "\n",
    " - Binary: \n",
    " \n",
    "        (Yes, No) , (True, False) \n",
    "        \n",
    " - Ordinal: Specific ordered Groups.\n",
    "\n",
    "         economic status (“low income”,”middle income”,”high income”), \n",
    "         \n",
    "         education level (“high school”,”BS”,”MS”,”PhD”), \n",
    "         \n",
    "         income level (“less than 50K”, “50K-100K”, “over 100K”),\n",
    "         \n",
    "         satisfaction rating (“extremely dislike”, “dislike”, “neutral”, “like”, “extremely like”) \n",
    "        \n",
    " - Nominal : Unordered Groups.\n",
    " \n",
    "        (cat, dog, tiger),(pizza, burger, coke)"
   ]
  },
  {
   "cell_type": "markdown",
   "id": "107dfbd2-369f-4505-9ced-b0ebec488a5f",
   "metadata": {},
   "source": [
    "## 1: Import Required Libraries"
   ]
  },
  {
   "cell_type": "code",
   "execution_count": 4,
   "id": "3de7311b-df7c-4011-a6ba-d033043fc443",
   "metadata": {},
   "outputs": [],
   "source": [
    "import pandas as pd\n",
    "import numpy as np\n",
    "\n",
    "from sklearn.preprocessing import OneHotEncoder, LabelEncoder\n",
    "from sklearn.compose import ColumnTransformer\n",
    "from sklearn.model_selection import train_test_split"
   ]
  },
  {
   "cell_type": "markdown",
   "id": "e08ecc0a-2640-41ec-8f3e-13ace5382bc5",
   "metadata": {},
   "source": [
    "## 2: Load the Dataset"
   ]
  },
  {
   "cell_type": "code",
   "execution_count": 7,
   "id": "b7c5bda9-6763-4fdb-81c0-8993747898c3",
   "metadata": {},
   "outputs": [
    {
     "data": {
      "text/html": [
       "<div>\n",
       "<style scoped>\n",
       "    .dataframe tbody tr th:only-of-type {\n",
       "        vertical-align: middle;\n",
       "    }\n",
       "\n",
       "    .dataframe tbody tr th {\n",
       "        vertical-align: top;\n",
       "    }\n",
       "\n",
       "    .dataframe thead th {\n",
       "        text-align: right;\n",
       "    }\n",
       "</style>\n",
       "<table border=\"1\" class=\"dataframe\">\n",
       "  <thead>\n",
       "    <tr style=\"text-align: right;\">\n",
       "      <th></th>\n",
       "      <th>age</th>\n",
       "      <th>gender</th>\n",
       "      <th>review</th>\n",
       "      <th>education</th>\n",
       "      <th>purchased</th>\n",
       "    </tr>\n",
       "  </thead>\n",
       "  <tbody>\n",
       "    <tr>\n",
       "      <th>0</th>\n",
       "      <td>30</td>\n",
       "      <td>Female</td>\n",
       "      <td>Average</td>\n",
       "      <td>School</td>\n",
       "      <td>No</td>\n",
       "    </tr>\n",
       "    <tr>\n",
       "      <th>1</th>\n",
       "      <td>68</td>\n",
       "      <td>Female</td>\n",
       "      <td>Poor</td>\n",
       "      <td>UG</td>\n",
       "      <td>No</td>\n",
       "    </tr>\n",
       "    <tr>\n",
       "      <th>2</th>\n",
       "      <td>70</td>\n",
       "      <td>Female</td>\n",
       "      <td>Good</td>\n",
       "      <td>PG</td>\n",
       "      <td>No</td>\n",
       "    </tr>\n",
       "    <tr>\n",
       "      <th>3</th>\n",
       "      <td>72</td>\n",
       "      <td>Female</td>\n",
       "      <td>Good</td>\n",
       "      <td>PG</td>\n",
       "      <td>No</td>\n",
       "    </tr>\n",
       "    <tr>\n",
       "      <th>4</th>\n",
       "      <td>16</td>\n",
       "      <td>Female</td>\n",
       "      <td>Average</td>\n",
       "      <td>UG</td>\n",
       "      <td>No</td>\n",
       "    </tr>\n",
       "  </tbody>\n",
       "</table>\n",
       "</div>"
      ],
      "text/plain": [
       "   age  gender   review education purchased\n",
       "0   30  Female  Average    School        No\n",
       "1   68  Female     Poor        UG        No\n",
       "2   70  Female     Good        PG        No\n",
       "3   72  Female     Good        PG        No\n",
       "4   16  Female  Average        UG        No"
      ]
     },
     "execution_count": 7,
     "metadata": {},
     "output_type": "execute_result"
    }
   ],
   "source": [
    "# Load dataset\n",
    "data = pd.read_csv(\"C:\\\\Users\\\\BINPAT\\\\Documents\\\\Python Self\\\\Feature Engineering\\\\Datasets\\\\customer.csv\")\n",
    "df = pd.read_excel(\"C:\\\\Users\\\\BINPAT\\\\Documents\\\\Python Self\\\\Feature Engineering\\\\Datasets\\\\feature_encoding.xlsx\")\n",
    "\n",
    "data.head()"
   ]
  },
  {
   "cell_type": "markdown",
   "id": "d59c94ec-c007-43c5-9485-bba98ebfffbf",
   "metadata": {},
   "source": [
    "## 3: Explore and Understand the Data\n",
    "\n",
    "We should perform a basic exploratory data analysis (EDA) to identify categorical features."
   ]
  },
  {
   "cell_type": "code",
   "execution_count": 10,
   "id": "40d97f58-ff33-4899-b69a-677a63e1ef79",
   "metadata": {},
   "outputs": [
    {
     "name": "stdout",
     "output_type": "stream",
     "text": [
      "(50, 5)\n",
      "\n",
      "\n",
      "<class 'pandas.core.frame.DataFrame'>\n",
      "RangeIndex: 50 entries, 0 to 49\n",
      "Data columns (total 5 columns):\n",
      " #   Column     Non-Null Count  Dtype \n",
      "---  ------     --------------  ----- \n",
      " 0   age        50 non-null     int64 \n",
      " 1   gender     50 non-null     object\n",
      " 2   review     50 non-null     object\n",
      " 3   education  50 non-null     object\n",
      " 4   purchased  50 non-null     object\n",
      "dtypes: int64(1), object(4)\n",
      "memory usage: 2.1+ KB\n",
      "None\n",
      "\n",
      "\n",
      "Categorical Features: Index(['gender', 'review', 'education', 'purchased'], dtype='object')\n"
     ]
    }
   ],
   "source": [
    "# View dataset info\n",
    "print(data.shape)\n",
    "print('\\n')\n",
    "print(data.info())\n",
    "print('\\n')\n",
    "# Check for categorical features\n",
    "categorical_features = data.select_dtypes(include=['object', 'category']).columns\n",
    "print(\"Categorical Features:\", categorical_features)"
   ]
  },
  {
   "cell_type": "markdown",
   "id": "1b3e2cd4-8065-46e7-ba0b-3b99e95e7f9a",
   "metadata": {},
   "source": [
    "## 4: Handle Missing Values\n",
    "\n",
    "If there are missing values in categorical columns, We must handle them before encoding."
   ]
  },
  {
   "cell_type": "code",
   "execution_count": 13,
   "id": "c4d35732-e2d4-4d34-8b9f-842c4da581a9",
   "metadata": {},
   "outputs": [
    {
     "data": {
      "text/plain": [
       "age          0\n",
       "gender       0\n",
       "review       0\n",
       "education    0\n",
       "purchased    0\n",
       "dtype: int64"
      ]
     },
     "execution_count": 13,
     "metadata": {},
     "output_type": "execute_result"
    }
   ],
   "source": [
    "# Extracting Missing Values \n",
    "data.isna().sum()"
   ]
  },
  {
   "cell_type": "code",
   "execution_count": 15,
   "id": "0ebf44a1-9067-491e-aa10-5dc147ba2bd7",
   "metadata": {},
   "outputs": [],
   "source": [
    "# Fill missing categorical values with \"Unknown\"\n",
    "data[categorical_features] = data[categorical_features].fillna(\"Unknown\")"
   ]
  },
  {
   "cell_type": "markdown",
   "id": "4c8d4e74-fedc-493d-900b-766c8e8afcf1",
   "metadata": {},
   "source": [
    "## Step 5: Split Dataset\n",
    "\n",
    "Divide the dataset into training and testing subsets."
   ]
  },
  {
   "cell_type": "code",
   "execution_count": 18,
   "id": "e5c2bac5-e499-43d0-b5ad-eab0a76e421a",
   "metadata": {},
   "outputs": [],
   "source": [
    "# Split the data into train and test sets (80% train, 20% test)\n",
    "df_train, df_test = train_test_split(data, test_size=0.2, random_state=42)\n",
    "\n",
    "df_train_original = df_train.copy()\n",
    "df_test_original = df_test.copy()"
   ]
  },
  {
   "cell_type": "code",
   "execution_count": 20,
   "id": "4f5b3e9b-4797-4280-a86d-50dfe786e0e2",
   "metadata": {},
   "outputs": [
    {
     "data": {
      "text/html": [
       "<div>\n",
       "<style scoped>\n",
       "    .dataframe tbody tr th:only-of-type {\n",
       "        vertical-align: middle;\n",
       "    }\n",
       "\n",
       "    .dataframe tbody tr th {\n",
       "        vertical-align: top;\n",
       "    }\n",
       "\n",
       "    .dataframe thead th {\n",
       "        text-align: right;\n",
       "    }\n",
       "</style>\n",
       "<table border=\"1\" class=\"dataframe\">\n",
       "  <thead>\n",
       "    <tr style=\"text-align: right;\">\n",
       "      <th></th>\n",
       "      <th>age</th>\n",
       "      <th>gender</th>\n",
       "      <th>review</th>\n",
       "      <th>education</th>\n",
       "      <th>purchased</th>\n",
       "    </tr>\n",
       "  </thead>\n",
       "  <tbody>\n",
       "    <tr>\n",
       "      <th>12</th>\n",
       "      <td>51</td>\n",
       "      <td>Male</td>\n",
       "      <td>Poor</td>\n",
       "      <td>School</td>\n",
       "      <td>No</td>\n",
       "    </tr>\n",
       "    <tr>\n",
       "      <th>4</th>\n",
       "      <td>16</td>\n",
       "      <td>Female</td>\n",
       "      <td>Average</td>\n",
       "      <td>UG</td>\n",
       "      <td>No</td>\n",
       "    </tr>\n",
       "    <tr>\n",
       "      <th>37</th>\n",
       "      <td>94</td>\n",
       "      <td>Male</td>\n",
       "      <td>Average</td>\n",
       "      <td>PG</td>\n",
       "      <td>Yes</td>\n",
       "    </tr>\n",
       "    <tr>\n",
       "      <th>8</th>\n",
       "      <td>65</td>\n",
       "      <td>Female</td>\n",
       "      <td>Average</td>\n",
       "      <td>UG</td>\n",
       "      <td>No</td>\n",
       "    </tr>\n",
       "    <tr>\n",
       "      <th>3</th>\n",
       "      <td>72</td>\n",
       "      <td>Female</td>\n",
       "      <td>Good</td>\n",
       "      <td>PG</td>\n",
       "      <td>No</td>\n",
       "    </tr>\n",
       "  </tbody>\n",
       "</table>\n",
       "</div>"
      ],
      "text/plain": [
       "    age  gender   review education purchased\n",
       "12   51    Male     Poor    School        No\n",
       "4    16  Female  Average        UG        No\n",
       "37   94    Male  Average        PG       Yes\n",
       "8    65  Female  Average        UG        No\n",
       "3    72  Female     Good        PG        No"
      ]
     },
     "execution_count": 20,
     "metadata": {},
     "output_type": "execute_result"
    }
   ],
   "source": [
    "# Check df train \n",
    "df_train.head(5)"
   ]
  },
  {
   "cell_type": "code",
   "execution_count": 22,
   "id": "c1fd30ec-054a-4c72-9657-9a06c4fc4fab",
   "metadata": {},
   "outputs": [
    {
     "data": {
      "text/html": [
       "<div>\n",
       "<style scoped>\n",
       "    .dataframe tbody tr th:only-of-type {\n",
       "        vertical-align: middle;\n",
       "    }\n",
       "\n",
       "    .dataframe tbody tr th {\n",
       "        vertical-align: top;\n",
       "    }\n",
       "\n",
       "    .dataframe thead th {\n",
       "        text-align: right;\n",
       "    }\n",
       "</style>\n",
       "<table border=\"1\" class=\"dataframe\">\n",
       "  <thead>\n",
       "    <tr style=\"text-align: right;\">\n",
       "      <th></th>\n",
       "      <th>age</th>\n",
       "      <th>gender</th>\n",
       "      <th>review</th>\n",
       "      <th>education</th>\n",
       "      <th>purchased</th>\n",
       "    </tr>\n",
       "  </thead>\n",
       "  <tbody>\n",
       "    <tr>\n",
       "      <th>13</th>\n",
       "      <td>57</td>\n",
       "      <td>Female</td>\n",
       "      <td>Average</td>\n",
       "      <td>School</td>\n",
       "      <td>No</td>\n",
       "    </tr>\n",
       "    <tr>\n",
       "      <th>39</th>\n",
       "      <td>76</td>\n",
       "      <td>Male</td>\n",
       "      <td>Poor</td>\n",
       "      <td>PG</td>\n",
       "      <td>No</td>\n",
       "    </tr>\n",
       "    <tr>\n",
       "      <th>30</th>\n",
       "      <td>73</td>\n",
       "      <td>Male</td>\n",
       "      <td>Average</td>\n",
       "      <td>UG</td>\n",
       "      <td>No</td>\n",
       "    </tr>\n",
       "    <tr>\n",
       "      <th>45</th>\n",
       "      <td>61</td>\n",
       "      <td>Male</td>\n",
       "      <td>Poor</td>\n",
       "      <td>PG</td>\n",
       "      <td>Yes</td>\n",
       "    </tr>\n",
       "    <tr>\n",
       "      <th>17</th>\n",
       "      <td>22</td>\n",
       "      <td>Female</td>\n",
       "      <td>Poor</td>\n",
       "      <td>UG</td>\n",
       "      <td>Yes</td>\n",
       "    </tr>\n",
       "  </tbody>\n",
       "</table>\n",
       "</div>"
      ],
      "text/plain": [
       "    age  gender   review education purchased\n",
       "13   57  Female  Average    School        No\n",
       "39   76    Male     Poor        PG        No\n",
       "30   73    Male  Average        UG        No\n",
       "45   61    Male     Poor        PG       Yes\n",
       "17   22  Female     Poor        UG       Yes"
      ]
     },
     "execution_count": 22,
     "metadata": {},
     "output_type": "execute_result"
    }
   ],
   "source": [
    "# Check df test \n",
    "df_test.head(5)"
   ]
  },
  {
   "cell_type": "markdown",
   "id": "d6d535c4-e508-4834-a1a0-c395f96d2c66",
   "metadata": {},
   "source": [
    "## 6: Choose and Apply Encoding Method"
   ]
  },
  {
   "cell_type": "markdown",
   "id": "eba89c08-b0af-4532-9dc6-dc7246b9d17d",
   "metadata": {},
   "source": [
    "## 6.1. Label Encoding: \n",
    "* Assigns a unique integer to each category (e.g., [\"low\", \"medium\", \"high\"] → [0, 1, 2]).\n",
    "* Pros: Simple and fast. Suitable for ordinal categories (e.g., low < medium < high).\n",
    "* Cons: Implies an order when used on nominal data, which can mislead the model.\n",
    "* When to Use: For ordinal categorical features."
   ]
  },
  {
   "cell_type": "code",
   "execution_count": 26,
   "id": "dd48f05c-b311-496f-b499-3aee2aa98ab5",
   "metadata": {},
   "outputs": [
    {
     "name": "stdout",
     "output_type": "stream",
     "text": [
      "Column: gender\n",
      "{'Female': 0, 'Male': 1}\n",
      "Column: review\n",
      "{'Average': 0, 'Good': 1, 'Poor': 2}\n",
      "Column: education\n",
      "{'PG': 0, 'School': 1, 'UG': 2}\n",
      "Column: purchased\n",
      "{'No': 0, 'Yes': 1}\n"
     ]
    }
   ],
   "source": [
    "# How will number assigned\n",
    "label_encoder = LabelEncoder()\n",
    "\n",
    "for col in categorical_features:\n",
    "    label_encoder.fit(df_train[col])\n",
    "    print(f\"Column: {col}\")\n",
    "    print(dict(zip(label_encoder.classes_, label_encoder.transform(label_encoder.classes_))))"
   ]
  },
  {
   "cell_type": "code",
   "execution_count": 28,
   "id": "15fbece5-e71d-4dc3-849a-090536e04140",
   "metadata": {},
   "outputs": [
    {
     "name": "stdout",
     "output_type": "stream",
     "text": [
      "Encoded Data:\n"
     ]
    },
    {
     "data": {
      "text/html": [
       "<div>\n",
       "<style scoped>\n",
       "    .dataframe tbody tr th:only-of-type {\n",
       "        vertical-align: middle;\n",
       "    }\n",
       "\n",
       "    .dataframe tbody tr th {\n",
       "        vertical-align: top;\n",
       "    }\n",
       "\n",
       "    .dataframe thead th {\n",
       "        text-align: right;\n",
       "    }\n",
       "</style>\n",
       "<table border=\"1\" class=\"dataframe\">\n",
       "  <thead>\n",
       "    <tr style=\"text-align: right;\">\n",
       "      <th></th>\n",
       "      <th>age</th>\n",
       "      <th>gender</th>\n",
       "      <th>review</th>\n",
       "      <th>education</th>\n",
       "      <th>purchased</th>\n",
       "    </tr>\n",
       "  </thead>\n",
       "  <tbody>\n",
       "    <tr>\n",
       "      <th>12</th>\n",
       "      <td>51</td>\n",
       "      <td>1</td>\n",
       "      <td>2</td>\n",
       "      <td>1</td>\n",
       "      <td>0</td>\n",
       "    </tr>\n",
       "    <tr>\n",
       "      <th>4</th>\n",
       "      <td>16</td>\n",
       "      <td>0</td>\n",
       "      <td>0</td>\n",
       "      <td>2</td>\n",
       "      <td>0</td>\n",
       "    </tr>\n",
       "    <tr>\n",
       "      <th>37</th>\n",
       "      <td>94</td>\n",
       "      <td>1</td>\n",
       "      <td>0</td>\n",
       "      <td>0</td>\n",
       "      <td>1</td>\n",
       "    </tr>\n",
       "    <tr>\n",
       "      <th>8</th>\n",
       "      <td>65</td>\n",
       "      <td>0</td>\n",
       "      <td>0</td>\n",
       "      <td>2</td>\n",
       "      <td>0</td>\n",
       "    </tr>\n",
       "    <tr>\n",
       "      <th>3</th>\n",
       "      <td>72</td>\n",
       "      <td>0</td>\n",
       "      <td>1</td>\n",
       "      <td>0</td>\n",
       "      <td>0</td>\n",
       "    </tr>\n",
       "  </tbody>\n",
       "</table>\n",
       "</div>"
      ],
      "text/plain": [
       "    age  gender  review  education  purchased\n",
       "12   51       1       2          1          0\n",
       "4    16       0       0          2          0\n",
       "37   94       1       0          0          1\n",
       "8    65       0       0          2          0\n",
       "3    72       0       1          0          0"
      ]
     },
     "execution_count": 28,
     "metadata": {},
     "output_type": "execute_result"
    }
   ],
   "source": [
    "# Apply Label Encoding to all categorical columns\n",
    "\n",
    "label_encoder = LabelEncoder()\n",
    "for col in categorical_features:\n",
    "    df_train[col] = label_encoder.fit_transform(df_train[col])\n",
    "    df_test[col] = label_encoder.transform(df_test[col])\n",
    "\n",
    "print(\"Encoded Data:\")\n",
    "df_train.head(5)"
   ]
  },
  {
   "cell_type": "code",
   "execution_count": null,
   "id": "f977d43f-088d-4920-b73e-24a279aa01fa",
   "metadata": {},
   "outputs": [],
   "source": []
  },
  {
   "cell_type": "markdown",
   "id": "01265d29-6788-4b0d-9fcb-036f4e791435",
   "metadata": {},
   "source": [
    "## 6.2. One-Hot Encoding: \n",
    "* Converts categories into binary vectors (e.g., [\"red\", \"blue\", \"green\"] → [1, 0, 0], [0, 1, 0], [0, 0, 1]).\n",
    "* Pros: Avoids implying order among categories. Suitable for nominal data (no inherent order).\n",
    "* Cons: Increases dimensionality, especially for features with many categories.\n",
    "* When to Use: For nominal categorical features with a small to moderate number of categories.\n",
    "\n",
    "**One-Hot Encoding creates binary columns for each category and is useful when there’s no ordinal relationship between categories.**"
   ]
  },
  {
   "cell_type": "code",
   "execution_count": 60,
   "id": "ae36d444-f809-42ca-b27f-165cbfb2e66a",
   "metadata": {},
   "outputs": [],
   "source": [
    "df_train = df_train_original.copy()\n",
    "df_test = df_test_original.copy()"
   ]
  },
  {
   "cell_type": "code",
   "execution_count": 62,
   "id": "d4a564dd-41d5-4c55-8160-f61218cec124",
   "metadata": {},
   "outputs": [
    {
     "name": "stdout",
     "output_type": "stream",
     "text": [
      "Encoded Data: \n"
     ]
    },
    {
     "data": {
      "text/html": [
       "<div>\n",
       "<style scoped>\n",
       "    .dataframe tbody tr th:only-of-type {\n",
       "        vertical-align: middle;\n",
       "    }\n",
       "\n",
       "    .dataframe tbody tr th {\n",
       "        vertical-align: top;\n",
       "    }\n",
       "\n",
       "    .dataframe thead th {\n",
       "        text-align: right;\n",
       "    }\n",
       "</style>\n",
       "<table border=\"1\" class=\"dataframe\">\n",
       "  <thead>\n",
       "    <tr style=\"text-align: right;\">\n",
       "      <th></th>\n",
       "      <th>age</th>\n",
       "      <th>gender_Male</th>\n",
       "      <th>review_Good</th>\n",
       "      <th>review_Poor</th>\n",
       "      <th>education_School</th>\n",
       "      <th>education_UG</th>\n",
       "      <th>purchased_Yes</th>\n",
       "    </tr>\n",
       "  </thead>\n",
       "  <tbody>\n",
       "    <tr>\n",
       "      <th>12</th>\n",
       "      <td>51</td>\n",
       "      <td>True</td>\n",
       "      <td>False</td>\n",
       "      <td>True</td>\n",
       "      <td>True</td>\n",
       "      <td>False</td>\n",
       "      <td>False</td>\n",
       "    </tr>\n",
       "    <tr>\n",
       "      <th>4</th>\n",
       "      <td>16</td>\n",
       "      <td>False</td>\n",
       "      <td>False</td>\n",
       "      <td>False</td>\n",
       "      <td>False</td>\n",
       "      <td>True</td>\n",
       "      <td>False</td>\n",
       "    </tr>\n",
       "    <tr>\n",
       "      <th>37</th>\n",
       "      <td>94</td>\n",
       "      <td>True</td>\n",
       "      <td>False</td>\n",
       "      <td>False</td>\n",
       "      <td>False</td>\n",
       "      <td>False</td>\n",
       "      <td>True</td>\n",
       "    </tr>\n",
       "    <tr>\n",
       "      <th>8</th>\n",
       "      <td>65</td>\n",
       "      <td>False</td>\n",
       "      <td>False</td>\n",
       "      <td>False</td>\n",
       "      <td>False</td>\n",
       "      <td>True</td>\n",
       "      <td>False</td>\n",
       "    </tr>\n",
       "    <tr>\n",
       "      <th>3</th>\n",
       "      <td>72</td>\n",
       "      <td>False</td>\n",
       "      <td>True</td>\n",
       "      <td>False</td>\n",
       "      <td>False</td>\n",
       "      <td>False</td>\n",
       "      <td>False</td>\n",
       "    </tr>\n",
       "  </tbody>\n",
       "</table>\n",
       "</div>"
      ],
      "text/plain": [
       "    age  gender_Male  review_Good  review_Poor  education_School  \\\n",
       "12   51         True        False         True              True   \n",
       "4    16        False        False        False             False   \n",
       "37   94         True        False        False             False   \n",
       "8    65        False        False        False             False   \n",
       "3    72        False         True        False             False   \n",
       "\n",
       "    education_UG  purchased_Yes  \n",
       "12         False          False  \n",
       "4           True          False  \n",
       "37         False           True  \n",
       "8           True          False  \n",
       "3          False          False  "
      ]
     },
     "execution_count": 62,
     "metadata": {},
     "output_type": "execute_result"
    }
   ],
   "source": [
    "# Apply One-Hot Encoding to categorical features\n",
    "df_train = pd.get_dummies(df_train, columns=categorical_features, drop_first=True)\n",
    "df_test = pd.get_dummies(df_test, columns=categorical_features, drop_first=True)\n",
    "\n",
    "# Check the results\n",
    "print(\"Encoded Data: \")\n",
    "df_train.head()"
   ]
  },
  {
   "cell_type": "markdown",
   "id": "961ee5cd-dc00-4f7f-87ee-3eb6fef7e022",
   "metadata": {},
   "source": [
    "**We have to convert it into 1 and 0**"
   ]
  },
  {
   "cell_type": "markdown",
   "id": "7a3ddef9-5d52-4889-9b18-e1180717ea07",
   "metadata": {},
   "source": [
    "## 6.3. Binary Encoding: \n",
    "* Converts categories into binary numbers and encodes them as columns (e.g., [\"A\", \"B\", \"C\"] → [01, 10, 11]).\n",
    "* Pros: Reduces dimensionality compared to One-Hot Encoding. Efficient for high-cardinality features.\n",
    "* Cons: Harder to interpret compared to One-Hot Encoding.\n",
    "* When to Use: For features with many unique categories (high cardinality).\n",
    "\n",
    "**Binary Encoding works by first applying Label Encoding, then converting the labels into binary form. It’s good for high-cardinality features.**"
   ]
  },
  {
   "cell_type": "code",
   "execution_count": 66,
   "id": "1e105319-993a-482a-bb83-56f785479f0c",
   "metadata": {},
   "outputs": [],
   "source": [
    "df_train = df_train_original.copy()\n",
    "df_test = df_test_original.copy()"
   ]
  },
  {
   "cell_type": "code",
   "execution_count": 72,
   "id": "51dac41b-a58e-4515-81fe-12cdc0434356",
   "metadata": {},
   "outputs": [
    {
     "name": "stdout",
     "output_type": "stream",
     "text": [
      "Encoded Data:\n"
     ]
    },
    {
     "data": {
      "text/html": [
       "<div>\n",
       "<style scoped>\n",
       "    .dataframe tbody tr th:only-of-type {\n",
       "        vertical-align: middle;\n",
       "    }\n",
       "\n",
       "    .dataframe tbody tr th {\n",
       "        vertical-align: top;\n",
       "    }\n",
       "\n",
       "    .dataframe thead th {\n",
       "        text-align: right;\n",
       "    }\n",
       "</style>\n",
       "<table border=\"1\" class=\"dataframe\">\n",
       "  <thead>\n",
       "    <tr style=\"text-align: right;\">\n",
       "      <th></th>\n",
       "      <th>age</th>\n",
       "      <th>gender_0</th>\n",
       "      <th>gender_1</th>\n",
       "      <th>review_0</th>\n",
       "      <th>review_1</th>\n",
       "      <th>education_0</th>\n",
       "      <th>education_1</th>\n",
       "      <th>purchased_0</th>\n",
       "      <th>purchased_1</th>\n",
       "    </tr>\n",
       "  </thead>\n",
       "  <tbody>\n",
       "    <tr>\n",
       "      <th>12</th>\n",
       "      <td>51</td>\n",
       "      <td>0</td>\n",
       "      <td>1</td>\n",
       "      <td>0</td>\n",
       "      <td>1</td>\n",
       "      <td>0</td>\n",
       "      <td>1</td>\n",
       "      <td>0</td>\n",
       "      <td>1</td>\n",
       "    </tr>\n",
       "    <tr>\n",
       "      <th>4</th>\n",
       "      <td>16</td>\n",
       "      <td>1</td>\n",
       "      <td>0</td>\n",
       "      <td>1</td>\n",
       "      <td>0</td>\n",
       "      <td>1</td>\n",
       "      <td>0</td>\n",
       "      <td>0</td>\n",
       "      <td>1</td>\n",
       "    </tr>\n",
       "    <tr>\n",
       "      <th>37</th>\n",
       "      <td>94</td>\n",
       "      <td>0</td>\n",
       "      <td>1</td>\n",
       "      <td>1</td>\n",
       "      <td>0</td>\n",
       "      <td>1</td>\n",
       "      <td>1</td>\n",
       "      <td>1</td>\n",
       "      <td>0</td>\n",
       "    </tr>\n",
       "    <tr>\n",
       "      <th>8</th>\n",
       "      <td>65</td>\n",
       "      <td>1</td>\n",
       "      <td>0</td>\n",
       "      <td>1</td>\n",
       "      <td>0</td>\n",
       "      <td>1</td>\n",
       "      <td>0</td>\n",
       "      <td>0</td>\n",
       "      <td>1</td>\n",
       "    </tr>\n",
       "    <tr>\n",
       "      <th>3</th>\n",
       "      <td>72</td>\n",
       "      <td>1</td>\n",
       "      <td>0</td>\n",
       "      <td>1</td>\n",
       "      <td>1</td>\n",
       "      <td>1</td>\n",
       "      <td>1</td>\n",
       "      <td>0</td>\n",
       "      <td>1</td>\n",
       "    </tr>\n",
       "  </tbody>\n",
       "</table>\n",
       "</div>"
      ],
      "text/plain": [
       "    age  gender_0  gender_1  review_0  review_1  education_0  education_1  \\\n",
       "12   51         0         1         0         1            0            1   \n",
       "4    16         1         0         1         0            1            0   \n",
       "37   94         0         1         1         0            1            1   \n",
       "8    65         1         0         1         0            1            0   \n",
       "3    72         1         0         1         1            1            1   \n",
       "\n",
       "    purchased_0  purchased_1  \n",
       "12            0            1  \n",
       "4             0            1  \n",
       "37            1            0  \n",
       "8             0            1  \n",
       "3             0            1  "
      ]
     },
     "execution_count": 72,
     "metadata": {},
     "output_type": "execute_result"
    }
   ],
   "source": [
    "from category_encoders import BinaryEncoder\n",
    "\n",
    "# Initialize BinaryEncoder\n",
    "binary_encoder = BinaryEncoder(cols=categorical_features)\n",
    "\n",
    "# Apply Binary Encoding to categorical features\n",
    "df_train = binary_encoder.fit_transform(df_train)\n",
    "df_test = binary_encoder.transform(df_test)\n",
    "\n",
    "# Check the results\n",
    "print(\"Encoded Data:\")\n",
    "df_train.head(5)"
   ]
  },
  {
   "cell_type": "markdown",
   "id": "81f260ad-e1c8-4972-ac74-0df85552672e",
   "metadata": {},
   "source": [
    "## 6.4. Frequency/Count Encoding: \n",
    "* Replaces each category with its frequency or count in the dataset (e.g., [\"A\", \"A\", \"B\", \"C\"] → [2, 2, 1, 1]).\n",
    "* Pros: Simple and fast. Retains information about category prevalence.\n",
    "* Cons: May not capture relationships between categories effectively.\n",
    "* When to Use: When you want a quick encoding method and category frequencies are important.\n",
    "\n",
    "**Frequency Encoding replaces categories with their frequency of occurrence.**"
   ]
  },
  {
   "cell_type": "code",
   "execution_count": 74,
   "id": "04623742-b378-4167-a96b-2251141cb4b0",
   "metadata": {},
   "outputs": [],
   "source": [
    "df_train = df_train_original.copy()\n",
    "df_test = df_test_original.copy()"
   ]
  },
  {
   "cell_type": "code",
   "execution_count": 76,
   "id": "381957e7-bf38-422a-b4d5-49a56dcfaa3d",
   "metadata": {},
   "outputs": [
    {
     "name": "stdout",
     "output_type": "stream",
     "text": [
      "Encoded Data:\n"
     ]
    },
    {
     "data": {
      "text/html": [
       "<div>\n",
       "<style scoped>\n",
       "    .dataframe tbody tr th:only-of-type {\n",
       "        vertical-align: middle;\n",
       "    }\n",
       "\n",
       "    .dataframe tbody tr th {\n",
       "        vertical-align: top;\n",
       "    }\n",
       "\n",
       "    .dataframe thead th {\n",
       "        text-align: right;\n",
       "    }\n",
       "</style>\n",
       "<table border=\"1\" class=\"dataframe\">\n",
       "  <thead>\n",
       "    <tr style=\"text-align: right;\">\n",
       "      <th></th>\n",
       "      <th>age</th>\n",
       "      <th>gender</th>\n",
       "      <th>review</th>\n",
       "      <th>education</th>\n",
       "      <th>purchased</th>\n",
       "    </tr>\n",
       "  </thead>\n",
       "  <tbody>\n",
       "    <tr>\n",
       "      <th>12</th>\n",
       "      <td>51</td>\n",
       "      <td>0.4</td>\n",
       "      <td>0.325</td>\n",
       "      <td>0.35</td>\n",
       "      <td>0.525</td>\n",
       "    </tr>\n",
       "    <tr>\n",
       "      <th>4</th>\n",
       "      <td>16</td>\n",
       "      <td>0.6</td>\n",
       "      <td>0.275</td>\n",
       "      <td>0.30</td>\n",
       "      <td>0.525</td>\n",
       "    </tr>\n",
       "    <tr>\n",
       "      <th>37</th>\n",
       "      <td>94</td>\n",
       "      <td>0.4</td>\n",
       "      <td>0.275</td>\n",
       "      <td>0.35</td>\n",
       "      <td>0.475</td>\n",
       "    </tr>\n",
       "    <tr>\n",
       "      <th>8</th>\n",
       "      <td>65</td>\n",
       "      <td>0.6</td>\n",
       "      <td>0.275</td>\n",
       "      <td>0.30</td>\n",
       "      <td>0.525</td>\n",
       "    </tr>\n",
       "    <tr>\n",
       "      <th>3</th>\n",
       "      <td>72</td>\n",
       "      <td>0.6</td>\n",
       "      <td>0.400</td>\n",
       "      <td>0.35</td>\n",
       "      <td>0.525</td>\n",
       "    </tr>\n",
       "  </tbody>\n",
       "</table>\n",
       "</div>"
      ],
      "text/plain": [
       "    age  gender  review  education  purchased\n",
       "12   51     0.4   0.325       0.35      0.525\n",
       "4    16     0.6   0.275       0.30      0.525\n",
       "37   94     0.4   0.275       0.35      0.475\n",
       "8    65     0.6   0.275       0.30      0.525\n",
       "3    72     0.6   0.400       0.35      0.525"
      ]
     },
     "execution_count": 76,
     "metadata": {},
     "output_type": "execute_result"
    }
   ],
   "source": [
    "# Apply Frequency Encoding to categorical features\n",
    "for col in categorical_features:\n",
    "    freq_encoding = df_train[col].value_counts() / len(df_train)\n",
    "    df_train[col] = df_train[col].map(freq_encoding)\n",
    "    df_test[col] = df_test[col].map(freq_encoding)\n",
    "\n",
    "# Check the results\n",
    "print(\"Encoded Data:\")\n",
    "df_train.head(5)"
   ]
  },
  {
   "cell_type": "markdown",
   "id": "07d77bb3-faf3-4bb0-aa15-6b21634baf5d",
   "metadata": {},
   "source": [
    "## 6.5. Target Encoding (Mean Encoding): \n",
    "* Replaces each category with the mean of the target variable for that category (e.g., [\"A\", \"B\", \"C\"] → [0.8, 0.3, 0.5] based on target values).\n",
    "* Pros: Captures the relationship between the category and the target. Useful for high-cardinality features.\n",
    "* Cons: Risk of data leakage. Can overfit if not done with caution (e.g., via K-Fold encoding).\n",
    "* When to Use: For regression problems or categorical features with many levels.\n",
    "  \n",
    "**Target Encoding replaces categories with the mean of the target variable for that category. This is especially useful when there’s a strong relationship between the categorical feature and the target variable.**\n",
    "\n",
    "Since there’s no target column, we can skip this one for now. But here’s the code for reference if we have a target variable:"
   ]
  },
  {
   "cell_type": "code",
   "execution_count": 79,
   "id": "a0e7e3f4-f761-42f8-92f6-2ec3ec1476c2",
   "metadata": {},
   "outputs": [],
   "source": [
    "df_train = df_train_original.copy()\n",
    "df_test = df_test_original.copy()"
   ]
  },
  {
   "cell_type": "code",
   "execution_count": null,
   "id": "46514c27-bb69-4d1e-9020-405f3b22c93c",
   "metadata": {},
   "outputs": [],
   "source": [
    "from category_encoders import TargetEncoder\n",
    "\n",
    "# Assuming 'target' is your target column\n",
    "target_encoder = TargetEncoder(cols=categorical_features)\n",
    "\n",
    "# Apply Target Encoding\n",
    "df_train = target_encoder.fit_transform(df_train, df_train['target'])\n",
    "df_test = target_encoder.transform(df_test)\n",
    "\n",
    "# Check the results\n",
    "print(\"Encoded Data:\")\n",
    "df_train.head(5)"
   ]
  },
  {
   "cell_type": "markdown",
   "id": "12c1ed32-49e8-4fad-8bfe-22f7658d022f",
   "metadata": {},
   "source": [
    "## 6.6. Hashing Encoding:             \n",
    "* Applies a hash function to convert categories into numerical values. The number of columns is fixed.             \n",
    "* Pros: Efficient for high-cardinality features. Fixed dimensionality regardless of the number of categories.               \n",
    "* Cons: May lead to collisions (two categories hashed to the same value). Hard to interpret.               \n",
    "* When to Use: For datasets with extremely high cardinality and when interpretability is not a priority.\n",
    "\n",
    "**Hashing Encoding applies a hash function to categorical values and maps them to a fixed number of buckets (useful when there are too many categories).**"
   ]
  },
  {
   "cell_type": "code",
   "execution_count": 83,
   "id": "6c26b116-43bf-4eaf-99e5-55739779dd38",
   "metadata": {},
   "outputs": [],
   "source": [
    "df_train = df_train_original.copy()\n",
    "df_test = df_test_original.copy()"
   ]
  },
  {
   "cell_type": "code",
   "execution_count": 85,
   "id": "b6a09c18-dacf-417c-a828-b42891079b94",
   "metadata": {},
   "outputs": [
    {
     "name": "stdout",
     "output_type": "stream",
     "text": [
      "Encoded Data:\n"
     ]
    },
    {
     "data": {
      "text/html": [
       "<div>\n",
       "<style scoped>\n",
       "    .dataframe tbody tr th:only-of-type {\n",
       "        vertical-align: middle;\n",
       "    }\n",
       "\n",
       "    .dataframe tbody tr th {\n",
       "        vertical-align: top;\n",
       "    }\n",
       "\n",
       "    .dataframe thead th {\n",
       "        text-align: right;\n",
       "    }\n",
       "</style>\n",
       "<table border=\"1\" class=\"dataframe\">\n",
       "  <thead>\n",
       "    <tr style=\"text-align: right;\">\n",
       "      <th></th>\n",
       "      <th>col_0</th>\n",
       "      <th>col_1</th>\n",
       "      <th>col_2</th>\n",
       "      <th>col_3</th>\n",
       "      <th>col_4</th>\n",
       "      <th>col_5</th>\n",
       "      <th>col_6</th>\n",
       "      <th>col_7</th>\n",
       "      <th>age</th>\n",
       "    </tr>\n",
       "  </thead>\n",
       "  <tbody>\n",
       "    <tr>\n",
       "      <th>12</th>\n",
       "      <td>0</td>\n",
       "      <td>0</td>\n",
       "      <td>0</td>\n",
       "      <td>1</td>\n",
       "      <td>1</td>\n",
       "      <td>2</td>\n",
       "      <td>0</td>\n",
       "      <td>0</td>\n",
       "      <td>51</td>\n",
       "    </tr>\n",
       "    <tr>\n",
       "      <th>4</th>\n",
       "      <td>0</td>\n",
       "      <td>1</td>\n",
       "      <td>0</td>\n",
       "      <td>1</td>\n",
       "      <td>0</td>\n",
       "      <td>0</td>\n",
       "      <td>1</td>\n",
       "      <td>1</td>\n",
       "      <td>16</td>\n",
       "    </tr>\n",
       "    <tr>\n",
       "      <th>37</th>\n",
       "      <td>0</td>\n",
       "      <td>2</td>\n",
       "      <td>0</td>\n",
       "      <td>0</td>\n",
       "      <td>0</td>\n",
       "      <td>2</td>\n",
       "      <td>0</td>\n",
       "      <td>0</td>\n",
       "      <td>94</td>\n",
       "    </tr>\n",
       "    <tr>\n",
       "      <th>8</th>\n",
       "      <td>0</td>\n",
       "      <td>1</td>\n",
       "      <td>0</td>\n",
       "      <td>1</td>\n",
       "      <td>0</td>\n",
       "      <td>0</td>\n",
       "      <td>1</td>\n",
       "      <td>1</td>\n",
       "      <td>65</td>\n",
       "    </tr>\n",
       "    <tr>\n",
       "      <th>3</th>\n",
       "      <td>0</td>\n",
       "      <td>1</td>\n",
       "      <td>0</td>\n",
       "      <td>1</td>\n",
       "      <td>1</td>\n",
       "      <td>0</td>\n",
       "      <td>0</td>\n",
       "      <td>1</td>\n",
       "      <td>72</td>\n",
       "    </tr>\n",
       "  </tbody>\n",
       "</table>\n",
       "</div>"
      ],
      "text/plain": [
       "    col_0  col_1  col_2  col_3  col_4  col_5  col_6  col_7  age\n",
       "12      0      0      0      1      1      2      0      0   51\n",
       "4       0      1      0      1      0      0      1      1   16\n",
       "37      0      2      0      0      0      2      0      0   94\n",
       "8       0      1      0      1      0      0      1      1   65\n",
       "3       0      1      0      1      1      0      0      1   72"
      ]
     },
     "execution_count": 85,
     "metadata": {},
     "output_type": "execute_result"
    }
   ],
   "source": [
    "from category_encoders import HashingEncoder\n",
    "\n",
    "# Initialize HashingEncoder\n",
    "hashing_encoder = HashingEncoder(cols=categorical_features, n_components=8)\n",
    "\n",
    "# Apply Hashing Encoding to categorical features\n",
    "df_train = hashing_encoder.fit_transform(df_train)\n",
    "df_test = hashing_encoder.transform(df_test)\n",
    "\n",
    "# Check the results\n",
    "print(\"Encoded Data:\")\n",
    "df_train.head(5)"
   ]
  },
  {
   "cell_type": "markdown",
   "id": "34f0303c-58f7-447b-a7e4-852c56864b9f",
   "metadata": {},
   "source": [
    "## 6.7. Ordinal Encoding: \n",
    "* Assigns numerical values based on a predefined order (e.g., [\"low\", \"medium\", \"high\"] → [1, 2, 3]).\n",
    "* Pros: Simple to implement. Retains the ordinal relationship between categories.\n",
    "* Cons: Not suitable for nominal data.\n",
    "* When to Use: For ordinal features where the order matters.\n",
    "\n",
    "**Ordinal Encoding is used when categories have a meaningful order but are not numerical. You need to define the custom order.**"
   ]
  },
  {
   "cell_type": "code",
   "execution_count": 99,
   "id": "7ee6fbba-9f4a-4d9f-aa6d-61fa68ca9367",
   "metadata": {},
   "outputs": [],
   "source": [
    "df_train = df_train_original.copy()\n",
    "df_test = df_test_original.copy()"
   ]
  },
  {
   "cell_type": "code",
   "execution_count": 101,
   "id": "0611023e-1eb1-4ce2-bccf-d1b5daa1ba5c",
   "metadata": {},
   "outputs": [
    {
     "name": "stdout",
     "output_type": "stream",
     "text": [
      "['Male' 'Female']\n",
      "['Poor' 'Average' 'Good']\n",
      "['School' 'UG' 'PG']\n",
      "['No' 'Yes']\n"
     ]
    }
   ],
   "source": [
    "print(df_train_original.gender.unique())\n",
    "print(df_train_original.review.unique())\n",
    "print(df_train_original.education.unique())\n",
    "print(df_train_original.purchased.unique())"
   ]
  },
  {
   "cell_type": "code",
   "execution_count": 103,
   "id": "f6a84869-214c-4d73-922b-288930e1626d",
   "metadata": {},
   "outputs": [
    {
     "name": "stdout",
     "output_type": "stream",
     "text": [
      "Encoded Data:\n"
     ]
    },
    {
     "data": {
      "text/html": [
       "<div>\n",
       "<style scoped>\n",
       "    .dataframe tbody tr th:only-of-type {\n",
       "        vertical-align: middle;\n",
       "    }\n",
       "\n",
       "    .dataframe tbody tr th {\n",
       "        vertical-align: top;\n",
       "    }\n",
       "\n",
       "    .dataframe thead th {\n",
       "        text-align: right;\n",
       "    }\n",
       "</style>\n",
       "<table border=\"1\" class=\"dataframe\">\n",
       "  <thead>\n",
       "    <tr style=\"text-align: right;\">\n",
       "      <th></th>\n",
       "      <th>age</th>\n",
       "      <th>gender</th>\n",
       "      <th>review</th>\n",
       "      <th>education</th>\n",
       "      <th>purchased</th>\n",
       "    </tr>\n",
       "  </thead>\n",
       "  <tbody>\n",
       "    <tr>\n",
       "      <th>12</th>\n",
       "      <td>51</td>\n",
       "      <td>0</td>\n",
       "      <td>0.0</td>\n",
       "      <td>0</td>\n",
       "      <td>0</td>\n",
       "    </tr>\n",
       "    <tr>\n",
       "      <th>4</th>\n",
       "      <td>16</td>\n",
       "      <td>1</td>\n",
       "      <td>1.0</td>\n",
       "      <td>1</td>\n",
       "      <td>0</td>\n",
       "    </tr>\n",
       "    <tr>\n",
       "      <th>37</th>\n",
       "      <td>94</td>\n",
       "      <td>0</td>\n",
       "      <td>1.0</td>\n",
       "      <td>2</td>\n",
       "      <td>1</td>\n",
       "    </tr>\n",
       "    <tr>\n",
       "      <th>8</th>\n",
       "      <td>65</td>\n",
       "      <td>1</td>\n",
       "      <td>1.0</td>\n",
       "      <td>1</td>\n",
       "      <td>0</td>\n",
       "    </tr>\n",
       "    <tr>\n",
       "      <th>3</th>\n",
       "      <td>72</td>\n",
       "      <td>1</td>\n",
       "      <td>NaN</td>\n",
       "      <td>2</td>\n",
       "      <td>0</td>\n",
       "    </tr>\n",
       "  </tbody>\n",
       "</table>\n",
       "</div>"
      ],
      "text/plain": [
       "    age  gender  review  education  purchased\n",
       "12   51       0     0.0          0          0\n",
       "4    16       1     1.0          1          0\n",
       "37   94       0     1.0          2          1\n",
       "8    65       1     1.0          1          0\n",
       "3    72       1     NaN          2          0"
      ]
     },
     "execution_count": 103,
     "metadata": {},
     "output_type": "execute_result"
    }
   ],
   "source": [
    "# Define the custom order for each categorical feature\n",
    "ordinal_mapping = {\n",
    "    'gender': {'Male': 0, 'Female': 1},\n",
    "    'review': {'Poor': 0, 'Average': 1, 'GOOD': 2},\n",
    "    'education': {'School': 0, 'UG': 1, 'PG': 2},\n",
    "    'purchased': {'No': 0, 'Yes': 1}\n",
    "}\n",
    "\n",
    "# Apply Ordinal Encoding based on predefined mapping\n",
    "for col in categorical_features:\n",
    "    df_train[col] = df_train[col].map(ordinal_mapping[col])\n",
    "    df_test[col] = df_test[col].map(ordinal_mapping[col])\n",
    "\n",
    "# Check the results\n",
    "print(\"Encoded Data:\")\n",
    "df_train.head(5)"
   ]
  },
  {
   "cell_type": "markdown",
   "id": "93263f65-7f9c-4b70-bf43-6374abf6e5a5",
   "metadata": {},
   "source": [
    "## General Guidelines\n",
    "\n",
    "**For Ordinal Data:** Use Label Encoding or Ordinal Encoding.                                            \n",
    "**For Nominal Data:** Use One-Hot Encoding or Binary Encoding.                                        \n",
    "**For High-Cardinality Features:** Use Target Encoding, Binary Encoding, or Hashing Encoding.                         \n",
    "**For Regression Problems:** Target Encoding can be effective but handle with caution to avoid overfitting.    \n",
    "**Avoid Curse of Dimensionality**"
   ]
  },
  {
   "cell_type": "code",
   "execution_count": null,
   "id": "d768c251-4188-45b0-98b0-0d2517fa8632",
   "metadata": {},
   "outputs": [],
   "source": []
  },
  {
   "cell_type": "code",
   "execution_count": null,
   "id": "2207618d-be52-4177-bff3-9f012f7bf083",
   "metadata": {},
   "outputs": [],
   "source": []
  },
  {
   "cell_type": "code",
   "execution_count": null,
   "id": "12861fc8-8b7f-4fe3-b6ff-f109c8baae21",
   "metadata": {},
   "outputs": [],
   "source": []
  }
 ],
 "metadata": {
  "kernelspec": {
   "display_name": "Python 3 (ipykernel)",
   "language": "python",
   "name": "python3"
  },
  "language_info": {
   "codemirror_mode": {
    "name": "ipython",
    "version": 3
   },
   "file_extension": ".py",
   "mimetype": "text/x-python",
   "name": "python",
   "nbconvert_exporter": "python",
   "pygments_lexer": "ipython3",
   "version": "3.12.7"
  }
 },
 "nbformat": 4,
 "nbformat_minor": 5
}
